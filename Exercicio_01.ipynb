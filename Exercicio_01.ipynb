{
  "nbformat": 4,
  "nbformat_minor": 0,
  "metadata": {
    "colab": {
      "name": "CienciaDeDadosCurso.ipynb",
      "provenance": [],
      "authorship_tag": "ABX9TyPz8/LECI3HR04lpw26m55Z",
      "include_colab_link": true
    },
    "kernelspec": {
      "name": "python3",
      "display_name": "Python 3"
    },
    "language_info": {
      "name": "python"
    }
  },
  "cells": [
    {
      "cell_type": "markdown",
      "metadata": {
        "id": "view-in-github",
        "colab_type": "text"
      },
      "source": [
        "<a href=\"https://colab.research.google.com/github/castrofd/CienciaDeDados_CursoMicrosoft/blob/main/Exercicio_01.ipynb\" target=\"_parent\"><img src=\"https://colab.research.google.com/assets/colab-badge.svg\" alt=\"Open In Colab\"/></a>"
      ]
    },
    {
      "cell_type": "code",
      "execution_count": 1,
      "metadata": {
        "colab": {
          "base_uri": "https://localhost:8080/"
        },
        "id": "twZ8aCip5uO_",
        "outputId": "3b37cecd-ef1b-4c0d-eff8-bbaa917f7ebf"
      },
      "outputs": [
        {
          "output_type": "stream",
          "name": "stdout",
          "text": [
            "Requirement already satisfied: statsmodels in /usr/local/lib/python3.7/dist-packages (0.10.2)\n",
            "Requirement already satisfied: patsy>=0.4.0 in /usr/local/lib/python3.7/dist-packages (from statsmodels) (0.5.2)\n",
            "Requirement already satisfied: pandas>=0.19 in /usr/local/lib/python3.7/dist-packages (from statsmodels) (1.3.5)\n",
            "Requirement already satisfied: numpy>=1.11 in /usr/local/lib/python3.7/dist-packages (from statsmodels) (1.21.5)\n",
            "Requirement already satisfied: scipy>=0.18 in /usr/local/lib/python3.7/dist-packages (from statsmodels) (1.4.1)\n",
            "Requirement already satisfied: python-dateutil>=2.7.3 in /usr/local/lib/python3.7/dist-packages (from pandas>=0.19->statsmodels) (2.8.2)\n",
            "Requirement already satisfied: pytz>=2017.3 in /usr/local/lib/python3.7/dist-packages (from pandas>=0.19->statsmodels) (2018.9)\n",
            "Requirement already satisfied: six in /usr/local/lib/python3.7/dist-packages (from patsy>=0.4.0->statsmodels) (1.15.0)\n"
          ]
        }
      ],
      "source": [
        "import pandas\n",
        "!pip install statsmodels"
      ]
    },
    {
      "cell_type": "code",
      "source": [
        "!wget https://raw.githubusercontent.com/MicrosoftDocs/mslearn-introduction-to-machine-learning/main/graphing.py\n",
        "!wget https://raw.githubusercontent.com/MicrosoftDocs/mslearn-introduction-to-machine-learning/main/Data/doggy-boot-harness.csv\n"
      ],
      "metadata": {
        "colab": {
          "base_uri": "https://localhost:8080/"
        },
        "id": "eJSmp1mb6nRm",
        "outputId": "7f837868-45b9-4321-e94c-3021b4db1677"
      },
      "execution_count": 2,
      "outputs": [
        {
          "output_type": "stream",
          "name": "stdout",
          "text": [
            "--2022-02-23 23:26:18--  https://raw.githubusercontent.com/MicrosoftDocs/mslearn-introduction-to-machine-learning/main/graphing.py\n",
            "Resolving raw.githubusercontent.com (raw.githubusercontent.com)... 185.199.108.133, 185.199.109.133, 185.199.110.133, ...\n",
            "Connecting to raw.githubusercontent.com (raw.githubusercontent.com)|185.199.108.133|:443... connected.\n",
            "HTTP request sent, awaiting response... 200 OK\n",
            "Length: 21511 (21K) [text/plain]\n",
            "Saving to: ‘graphing.py’\n",
            "\n",
            "\rgraphing.py           0%[                    ]       0  --.-KB/s               \rgraphing.py         100%[===================>]  21.01K  --.-KB/s    in 0.001s  \n",
            "\n",
            "2022-02-23 23:26:18 (26.0 MB/s) - ‘graphing.py’ saved [21511/21511]\n",
            "\n",
            "--2022-02-23 23:26:18--  https://raw.githubusercontent.com/MicrosoftDocs/mslearn-introduction-to-machine-learning/main/Data/doggy-boot-harness.csv\n",
            "Resolving raw.githubusercontent.com (raw.githubusercontent.com)... 185.199.108.133, 185.199.109.133, 185.199.110.133, ...\n",
            "Connecting to raw.githubusercontent.com (raw.githubusercontent.com)|185.199.108.133|:443... connected.\n",
            "HTTP request sent, awaiting response... 200 OK\n",
            "Length: 838 [text/plain]\n",
            "Saving to: ‘doggy-boot-harness.csv’\n",
            "\n",
            "doggy-boot-harness. 100%[===================>]     838  --.-KB/s    in 0s      \n",
            "\n",
            "2022-02-23 23:26:18 (31.9 MB/s) - ‘doggy-boot-harness.csv’ saved [838/838]\n",
            "\n"
          ]
        }
      ]
    },
    {
      "cell_type": "code",
      "source": [
        "#Carregar arquivo com tamanhos de botas e coleiras"
      ],
      "metadata": {
        "id": "XLrXvv9z6q8K"
      },
      "execution_count": 3,
      "outputs": []
    },
    {
      "cell_type": "code",
      "source": [
        "dados = pandas.read_csv('doggy-boot-harness.csv')"
      ],
      "metadata": {
        "id": "jQtkXQX661lj"
      },
      "execution_count": 4,
      "outputs": []
    },
    {
      "cell_type": "code",
      "source": [
        "#Imprimir Primeiras linhas do arquivo\n",
        "dados.head()"
      ],
      "metadata": {
        "colab": {
          "base_uri": "https://localhost:8080/",
          "height": 206
        },
        "id": "3sn9crXI6-aH",
        "outputId": "de782723-e982-458c-cfae-dcf926c8e502"
      },
      "execution_count": 5,
      "outputs": [
        {
          "output_type": "execute_result",
          "data": {
            "text/html": [
              "\n",
              "  <div id=\"df-05b3f9d8-7625-4dc7-827a-ee8d47a64863\">\n",
              "    <div class=\"colab-df-container\">\n",
              "      <div>\n",
              "<style scoped>\n",
              "    .dataframe tbody tr th:only-of-type {\n",
              "        vertical-align: middle;\n",
              "    }\n",
              "\n",
              "    .dataframe tbody tr th {\n",
              "        vertical-align: top;\n",
              "    }\n",
              "\n",
              "    .dataframe thead th {\n",
              "        text-align: right;\n",
              "    }\n",
              "</style>\n",
              "<table border=\"1\" class=\"dataframe\">\n",
              "  <thead>\n",
              "    <tr style=\"text-align: right;\">\n",
              "      <th></th>\n",
              "      <th>boot_size</th>\n",
              "      <th>harness_size</th>\n",
              "      <th>sex</th>\n",
              "      <th>age_years</th>\n",
              "    </tr>\n",
              "  </thead>\n",
              "  <tbody>\n",
              "    <tr>\n",
              "      <th>0</th>\n",
              "      <td>39</td>\n",
              "      <td>58</td>\n",
              "      <td>male</td>\n",
              "      <td>12.0</td>\n",
              "    </tr>\n",
              "    <tr>\n",
              "      <th>1</th>\n",
              "      <td>38</td>\n",
              "      <td>58</td>\n",
              "      <td>male</td>\n",
              "      <td>9.6</td>\n",
              "    </tr>\n",
              "    <tr>\n",
              "      <th>2</th>\n",
              "      <td>37</td>\n",
              "      <td>52</td>\n",
              "      <td>female</td>\n",
              "      <td>8.6</td>\n",
              "    </tr>\n",
              "    <tr>\n",
              "      <th>3</th>\n",
              "      <td>39</td>\n",
              "      <td>58</td>\n",
              "      <td>male</td>\n",
              "      <td>10.2</td>\n",
              "    </tr>\n",
              "    <tr>\n",
              "      <th>4</th>\n",
              "      <td>38</td>\n",
              "      <td>57</td>\n",
              "      <td>male</td>\n",
              "      <td>7.8</td>\n",
              "    </tr>\n",
              "  </tbody>\n",
              "</table>\n",
              "</div>\n",
              "      <button class=\"colab-df-convert\" onclick=\"convertToInteractive('df-05b3f9d8-7625-4dc7-827a-ee8d47a64863')\"\n",
              "              title=\"Convert this dataframe to an interactive table.\"\n",
              "              style=\"display:none;\">\n",
              "        \n",
              "  <svg xmlns=\"http://www.w3.org/2000/svg\" height=\"24px\"viewBox=\"0 0 24 24\"\n",
              "       width=\"24px\">\n",
              "    <path d=\"M0 0h24v24H0V0z\" fill=\"none\"/>\n",
              "    <path d=\"M18.56 5.44l.94 2.06.94-2.06 2.06-.94-2.06-.94-.94-2.06-.94 2.06-2.06.94zm-11 1L8.5 8.5l.94-2.06 2.06-.94-2.06-.94L8.5 2.5l-.94 2.06-2.06.94zm10 10l.94 2.06.94-2.06 2.06-.94-2.06-.94-.94-2.06-.94 2.06-2.06.94z\"/><path d=\"M17.41 7.96l-1.37-1.37c-.4-.4-.92-.59-1.43-.59-.52 0-1.04.2-1.43.59L10.3 9.45l-7.72 7.72c-.78.78-.78 2.05 0 2.83L4 21.41c.39.39.9.59 1.41.59.51 0 1.02-.2 1.41-.59l7.78-7.78 2.81-2.81c.8-.78.8-2.07 0-2.86zM5.41 20L4 18.59l7.72-7.72 1.47 1.35L5.41 20z\"/>\n",
              "  </svg>\n",
              "      </button>\n",
              "      \n",
              "  <style>\n",
              "    .colab-df-container {\n",
              "      display:flex;\n",
              "      flex-wrap:wrap;\n",
              "      gap: 12px;\n",
              "    }\n",
              "\n",
              "    .colab-df-convert {\n",
              "      background-color: #E8F0FE;\n",
              "      border: none;\n",
              "      border-radius: 50%;\n",
              "      cursor: pointer;\n",
              "      display: none;\n",
              "      fill: #1967D2;\n",
              "      height: 32px;\n",
              "      padding: 0 0 0 0;\n",
              "      width: 32px;\n",
              "    }\n",
              "\n",
              "    .colab-df-convert:hover {\n",
              "      background-color: #E2EBFA;\n",
              "      box-shadow: 0px 1px 2px rgba(60, 64, 67, 0.3), 0px 1px 3px 1px rgba(60, 64, 67, 0.15);\n",
              "      fill: #174EA6;\n",
              "    }\n",
              "\n",
              "    [theme=dark] .colab-df-convert {\n",
              "      background-color: #3B4455;\n",
              "      fill: #D2E3FC;\n",
              "    }\n",
              "\n",
              "    [theme=dark] .colab-df-convert:hover {\n",
              "      background-color: #434B5C;\n",
              "      box-shadow: 0px 1px 3px 1px rgba(0, 0, 0, 0.15);\n",
              "      filter: drop-shadow(0px 1px 2px rgba(0, 0, 0, 0.3));\n",
              "      fill: #FFFFFF;\n",
              "    }\n",
              "  </style>\n",
              "\n",
              "      <script>\n",
              "        const buttonEl =\n",
              "          document.querySelector('#df-05b3f9d8-7625-4dc7-827a-ee8d47a64863 button.colab-df-convert');\n",
              "        buttonEl.style.display =\n",
              "          google.colab.kernel.accessAllowed ? 'block' : 'none';\n",
              "\n",
              "        async function convertToInteractive(key) {\n",
              "          const element = document.querySelector('#df-05b3f9d8-7625-4dc7-827a-ee8d47a64863');\n",
              "          const dataTable =\n",
              "            await google.colab.kernel.invokeFunction('convertToInteractive',\n",
              "                                                     [key], {});\n",
              "          if (!dataTable) return;\n",
              "\n",
              "          const docLinkHtml = 'Like what you see? Visit the ' +\n",
              "            '<a target=\"_blank\" href=https://colab.research.google.com/notebooks/data_table.ipynb>data table notebook</a>'\n",
              "            + ' to learn more about interactive tables.';\n",
              "          element.innerHTML = '';\n",
              "          dataTable['output_type'] = 'display_data';\n",
              "          await google.colab.output.renderOutput(dataTable, element);\n",
              "          const docLink = document.createElement('div');\n",
              "          docLink.innerHTML = docLinkHtml;\n",
              "          element.appendChild(docLink);\n",
              "        }\n",
              "      </script>\n",
              "    </div>\n",
              "  </div>\n",
              "  "
            ],
            "text/plain": [
              "   boot_size  harness_size     sex  age_years\n",
              "0         39            58    male       12.0\n",
              "1         38            58    male        9.6\n",
              "2         37            52  female        8.6\n",
              "3         39            58    male       10.2\n",
              "4         38            57    male        7.8"
            ]
          },
          "metadata": {},
          "execution_count": 5
        }
      ]
    },
    {
      "cell_type": "code",
      "source": [
        "#Criando e Treinando modelo simples de Regressão Linear\n",
        "import statsmodels.formula.api as smf"
      ],
      "metadata": {
        "colab": {
          "base_uri": "https://localhost:8080/"
        },
        "id": "9bhEK1Rd7Enp",
        "outputId": "923d8f14-e96a-4bca-f305-e5eebb680526"
      },
      "execution_count": 6,
      "outputs": [
        {
          "output_type": "stream",
          "name": "stderr",
          "text": [
            "/usr/local/lib/python3.7/dist-packages/statsmodels/tools/_testing.py:19: FutureWarning: pandas.util.testing is deprecated. Use the functions in the public API at pandas.testing instead.\n",
            "  import pandas.util.testing as tm\n"
          ]
        }
      ]
    },
    {
      "cell_type": "code",
      "source": [
        "#Ajustar \n",
        "#um modelo que encontra uma relação linear entre o tamanho da bota\n",
        "#e o tamanho da coleira que pode ser usado mais tarde\n",
        "#para prever o tamanho da bota de um cão, dado o tamanho da coleira\n",
        "modelo = smf.ols(formula=\"boot_size ~ harness_size\",data=dados).fit()\n",
        "print(\"Modelo Treinado com Sucesso!\")"
      ],
      "metadata": {
        "colab": {
          "base_uri": "https://localhost:8080/"
        },
        "id": "2hujiyAb7Znr",
        "outputId": "86adb3b6-8919-46c8-e9f2-5cb6d65b9b56"
      },
      "execution_count": 7,
      "outputs": [
        {
          "output_type": "stream",
          "name": "stdout",
          "text": [
            "Modelo Treinado com Sucesso!\n"
          ]
        }
      ]
    },
    {
      "cell_type": "code",
      "source": [
        "#Salvando e carregando modelo\n",
        "import joblib\n",
        "\n",
        "arquivo_modelo = './avalanche_dog_boot_model.pkl'\n",
        "joblib.dump(modelo,arquivo_modelo)\n",
        "print(\"Modelo Salvo com Sucesso!\")"
      ],
      "metadata": {
        "colab": {
          "base_uri": "https://localhost:8080/"
        },
        "id": "wLSti_3j8FVs",
        "outputId": "7af0ccdb-e29b-4044-88eb-902071d65db0"
      },
      "execution_count": 9,
      "outputs": [
        {
          "output_type": "stream",
          "name": "stdout",
          "text": [
            "Modelo Salvo com Sucesso!\n"
          ]
        }
      ]
    },
    {
      "cell_type": "code",
      "source": [
        "carregar_modelo = joblib.load(arquivo_modelo)\n",
        "\n",
        "print(\"Carregamos um Modelo com os seguintes parametros : \")\n",
        "print(carregar_modelo.params)"
      ],
      "metadata": {
        "colab": {
          "base_uri": "https://localhost:8080/"
        },
        "id": "X1iorodS8Dbz",
        "outputId": "c9f56a39-50c8-43e7-c6be-08d61f0913a9"
      },
      "execution_count": 10,
      "outputs": [
        {
          "output_type": "stream",
          "name": "stdout",
          "text": [
            "Carregamos um Modelo com os seguintes parametros : \n",
            "Intercept       5.719110\n",
            "harness_size    0.585925\n",
            "dtype: float64\n"
          ]
        }
      ]
    },
    {
      "cell_type": "code",
      "source": [
        "'''Juntar as peças\n",
        "Em nosso site, queremos pegar o arnês do cachorro do nosso cliente e calcular o tamanho da bota do cachorro usando o modelo que já treinamos.\n",
        "\n",
        "Vamos juntar tudo aqui para fazer uma função que carrega o modelo do disco, e então o usa para prever a altura do tamanho da inicialização do cachorro do nosso cliente.'''"
      ],
      "metadata": {
        "colab": {
          "base_uri": "https://localhost:8080/",
          "height": 54
        },
        "id": "c_6v2Rdp8zmd",
        "outputId": "64e3afed-f458-4bfd-93cf-d597414d150e"
      },
      "execution_count": 12,
      "outputs": [
        {
          "output_type": "execute_result",
          "data": {
            "application/vnd.google.colaboratory.intrinsic+json": {
              "type": "string"
            },
            "text/plain": [
              "'Juntar as peças\\nEm nosso site, queremos pegar o arnês do cachorro do nosso cliente e calcular o tamanho da bota do cachorro usando o modelo que já treinamos.\\n\\nVamos juntar tudo aqui para fazer uma função que carrega o modelo do disco, e então o usa para prever a altura do tamanho da inicialização do cachorro do nosso cliente.'"
            ]
          },
          "metadata": {},
          "execution_count": 12
        }
      ]
    },
    {
      "cell_type": "code",
      "source": [
        "#Função que carrega e usa nosso modelo\n",
        "def Carregar_Usar_Modelo(tamanho_coleira):\n",
        "  '''Esta Função esta carregando um modelo pré treinado. Ele usa\n",
        "  o modelo com o tamanho da Coleira do cão do clienre para prever\n",
        "  o tamanho das botas'''\n",
        "\n",
        "  #Carregando o modelo e imprimindo informação básica\n",
        "  carregar_modelo = joblib.load(arquivo_modelo)\n",
        "\n",
        "  print(\"Carregamos um modelo com seguintes dados : \")\n",
        "  print(carregar_modelo.params)\n",
        "\n",
        "  #Preparar dados para o modelo\n",
        "  \n",
        "  inputs = {\"harness_size\":[tamanho_coleira]}\n",
        "\n",
        "  #se o modelo para realizar a previsão\n",
        "  previsao_tamanho_bota = carregar_modelo.predict(inputs)[0]\n",
        "\n",
        "  return previsao_tamanho_bota\n"
      ],
      "metadata": {
        "id": "vMZadvcP9ElY"
      },
      "execution_count": 14,
      "outputs": []
    },
    {
      "cell_type": "code",
      "source": [
        "#Usando o Modelo\n",
        "previsao_tamanho_bota = Carregar_Usar_Modelo(45)\n",
        "\n",
        "print(\"Tamanho previsto para a Bota do Cão: \",previsao_tamanho_bota)"
      ],
      "metadata": {
        "colab": {
          "base_uri": "https://localhost:8080/"
        },
        "id": "lN9xVjAj-zzJ",
        "outputId": "393eeb25-5c66-4651-c740-0823eeb381ac"
      },
      "execution_count": 15,
      "outputs": [
        {
          "output_type": "stream",
          "name": "stdout",
          "text": [
            "Carregamos um modelo com seguintes dados : \n",
            "Intercept       5.719110\n",
            "harness_size    0.585925\n",
            "dtype: float64\n",
            "Tamanho previsto para a Bota do Cão:  32.08575356590478\n"
          ]
        }
      ]
    },
    {
      "cell_type": "code",
      "source": [
        "#Uso no mundo real\n",
        "#Consultando nosso site o tamanho da coleira e bota que nosso\n",
        "#Cliente selecionou\n",
        "#E realizar previsão e alertar cliente que ele pode estar comprando\n",
        "#o tamanho errado de botas para seu cão"
      ],
      "metadata": {
        "id": "7-nOkdi__S_q"
      },
      "execution_count": 16,
      "outputs": []
    },
    {
      "cell_type": "code",
      "source": [
        "def Checar_Tamanhos(Tam_Coleira_Sel,Tam_Bota_Sel):\n",
        "  #Estimar o tamanho da bota do cão do cliente\n",
        "  estima_bota = Carregar_Usar_Modelo(Tam_Coleira_Sel)\n",
        "\n",
        "  #Arredondar para o tamanho mais proximo pois nao vendemos tamanhos com 2 de precisão\n",
        "  estima_bota = int(round(estima_bota))\n",
        "\n",
        "  #Checar se Bota comprada é proxima da estimada\n",
        "\n",
        "  if Tam_Bota_Sel == estima_bota:\n",
        "    #Botas provavelmente estão corretas\n",
        "    return f\"Otima escolha, achamos que estas Botas ficarão Perfeitas para seu PET!\"\n",
        "  if Tam_Bota_Sel < estima_bota:\n",
        "    #Botas provavelmente ficarão pequenas\n",
        "    return \"Provavelmente as Botas ficarão pequenas para seu PET \"\\\n",
        "               f\"Recomendamos o Tamanho {estima_bota}.\"\n",
        "  if Tam_Bota_Sel > estima_bota:\n",
        "    #Botas provavelmente ficarão grandes\n",
        "    return \"Provavelmente as Botas ficarão grandes para seu PET \"\\\n",
        "              f\"Recomendamos o Tamanho {estima_bota}\"\n",
        "  \n",
        "#Testar Função \n",
        "Checar_Tamanhos(Tam_Coleira_Sel=55,Tam_Bota_Sel=39)"
      ],
      "metadata": {
        "colab": {
          "base_uri": "https://localhost:8080/",
          "height": 108
        },
        "id": "dd_SSzi6AQSy",
        "outputId": "58cc5b28-c678-46cd-a7d6-d9cf60df6a0d"
      },
      "execution_count": 17,
      "outputs": [
        {
          "output_type": "stream",
          "name": "stdout",
          "text": [
            "Carregamos um modelo com seguintes dados : \n",
            "Intercept       5.719110\n",
            "harness_size    0.585925\n",
            "dtype: float64\n"
          ]
        },
        {
          "output_type": "execute_result",
          "data": {
            "application/vnd.google.colaboratory.intrinsic+json": {
              "type": "string"
            },
            "text/plain": [
              "'Provavelmente as Botas ficarão grandes para seu PET Recomendamos o Tamanho 38'"
            ]
          },
          "metadata": {},
          "execution_count": 17
        }
      ]
    },
    {
      "cell_type": "code",
      "source": [
        ""
      ],
      "metadata": {
        "id": "qPvyUdRqC7lX"
      },
      "execution_count": null,
      "outputs": []
    }
  ]
}